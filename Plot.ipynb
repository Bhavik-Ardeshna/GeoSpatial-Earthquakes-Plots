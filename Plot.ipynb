{
 "metadata": {
  "language_info": {
   "codemirror_mode": {
    "name": "ipython",
    "version": 3
   },
   "file_extension": ".py",
   "mimetype": "text/x-python",
   "name": "python",
   "nbconvert_exporter": "python",
   "pygments_lexer": "ipython3",
   "version": "3.8.5-final"
  },
  "orig_nbformat": 2,
  "kernelspec": {
   "name": "python3",
   "display_name": "Python 3.8.5 64-bit",
   "metadata": {
    "interpreter": {
     "hash": "31f2aee4e71d21fbe5cf8b01ff0e069b9275f58929596ceb00d14d90e3e16cd6"
    }
   }
  }
 },
 "nbformat": 4,
 "nbformat_minor": 2,
 "cells": [
  {
   "cell_type": "code",
   "execution_count": 1,
   "metadata": {},
   "outputs": [
    {
     "output_type": "stream",
     "name": "stdout",
     "text": [
      "<class 'pandas.core.frame.DataFrame'>\nRangeIndex: 2183 entries, 0 to 2182\nData columns (total 22 columns):\n #   Column           Non-Null Count  Dtype  \n---  ------           --------------  -----  \n 0   time             2183 non-null   object \n 1   latitude         2183 non-null   float64\n 2   longitude        2183 non-null   float64\n 3   depth            2183 non-null   float64\n 4   mag              2183 non-null   float64\n 5   magType          2183 non-null   object \n 6   nst              402 non-null    float64\n 7   gap              2023 non-null   float64\n 8   dmin             1971 non-null   float64\n 9   rms              2183 non-null   float64\n 10  net              2183 non-null   object \n 11  id               2183 non-null   object \n 12  updated          2183 non-null   object \n 13  place            2183 non-null   object \n 14  type             2183 non-null   object \n 15  horizontalError  1974 non-null   float64\n 16  depthError       2183 non-null   float64\n 17  magError         2011 non-null   float64\n 18  magNst           2017 non-null   float64\n 19  status           2183 non-null   object \n 20  locationSource   2183 non-null   object \n 21  magSource        2183 non-null   object \ndtypes: float64(12), object(10)\nmemory usage: 375.3+ KB\n"
     ]
    }
   ],
   "source": [
    "import folium\n",
    "import pandas as pd\n",
    "\n",
    "# this feed tracks every earthquake of magnitude 2.5 or greater over the last month\n",
    "usgs_url = 'https://earthquake.usgs.gov/earthquakes/feed/v1.0/summary/2.5_month.csv'\n",
    "df = pd.read_csv(usgs_url)\n",
    "\n",
    "df.info() # let's take a look at our available columns"
   ]
  },
  {
   "cell_type": "code",
   "execution_count": 3,
   "metadata": {},
   "outputs": [],
   "source": [
    "# create a new map object\n",
    "m = folium.Map(location=(0, 0), zoom_start=2)\n",
    "\n",
    "# go through each quake in set, make circle, and add to map.\n",
    "for i in range(len(df)):\n",
    "    folium.Circle(\n",
    "        location=[df.iloc[i]['latitude'], df.iloc[i]['longitude']],\n",
    "        radius=10,\n",
    "    ).add_to(m)\n",
    "\n",
    "# Same as before, we save it to file\n",
    "m.save('earthquakes.html')"
   ]
  },
  {
   "cell_type": "code",
   "execution_count": null,
   "metadata": {},
   "outputs": [],
   "source": []
  }
 ]
}